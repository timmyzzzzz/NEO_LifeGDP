{
 "cells": [
  {
   "cell_type": "code",
   "execution_count": null,
   "id": "27a375fe",
   "metadata": {},
   "outputs": [],
   "source": [
    "import pandas as pd\n",
    "from matplotlib import pyplot as plt\n",
    "import seaborn as sns"
   ]
  },
  {
   "cell_type": "code",
   "execution_count": null,
   "id": "e9112b57",
   "metadata": {},
   "outputs": [],
   "source": [
    "netflix_daily_df = pd.read_csv('datasets/NFLX_daily_prices.csv')\n",
    "print(netflix_daily_df.info())\n",
    "netflix_daily_df.head()"
   ]
  }
 ],
 "metadata": {
  "language_info": {
   "name": "python"
  }
 },
 "nbformat": 4,
 "nbformat_minor": 5
}
